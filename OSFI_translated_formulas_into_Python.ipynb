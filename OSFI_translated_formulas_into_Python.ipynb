{
  "nbformat": 4,
  "nbformat_minor": 0,
  "metadata": {
    "colab": {
      "provenance": []
    },
    "kernelspec": {
      "name": "python3",
      "display_name": "Python 3"
    },
    "language_info": {
      "name": "python"
    }
  },
  "cells": [
    {
      "cell_type": "markdown",
      "source": [
        "# OSFI SCSE Climate & Market Risk Calculations\n",
        "\n",
        "https://www.osfi-bsif.gc.ca/en/data-forms/reporting-returns/standardized-climate-scenario-exercise\n",
        "\n",
        "---\n",
        "\n",
        "## 1️/ Climate-Adjusted Probability of Default (PD) (Section 3.4.4)\n",
        "\n",
        "### **Formula**\n",
        "\n",
        "$\\text{climatePD}_t = \\frac{1}{1 + \\exp\\left(-\\left(\\logit(\\text{PD}) + \\text{climateAdd\\text{-}on}_{t,0}\\right)\\right)}$\n",
        "\n",
        "\n",
        "### **Interpretation**\n",
        "- Adjusts the baseline PD by adding a climate-specific risk factor in log-odds space.\n",
        "- This results in a higher probability of default for riskier exposures.\n",
        "\n",
        "---\n",
        "\n",
        "## 2️/ Baseline Market Value of Equity Exposures (Section 3.5.2)\n",
        "\n",
        "### **Formula**\n",
        "\n",
        "$\\text{baselineMarketValue}_T = \\text{EquityExposure}_{Q4\\,2023} \\times \\text{baselineEquityIndex}_T$\n",
        "\n",
        "### **Interpretation**\n",
        "- Adjusts initial exposure values using a projected equity index level.\n",
        "- Captures baseline growth or shrinkage in market value before any shocks.\n",
        "\n",
        "---\n",
        "\n",
        "## 3️/ Change in Market Value Due to Equity Shocks (Section 3.5.2)\n",
        "\n",
        "### **Formula**\n",
        "\n",
        "$\\Delta \\text{MarketValue}_T = \\text{baselineMarketValue}_T \\times \\text{EquityShock}_T$\n",
        "\n",
        "\n",
        "### **Interpretation**\n",
        "- Measures gains or losses due to market volatility.\n",
        "- A negative shock results in a decline in market value.\n",
        "\n",
        "---\n",
        "\n",
        "## 4️/ Climate-Adjusted Credit Spread for Bonds (Section 3.5.3)\n",
        "\n",
        "### **Steps**\n",
        "1. **Calculate Climate-Adjusted PD** (from Section 3.4.4)\n",
        "2. **Assign Credit Rating** based on adjusted PD:\n",
        "   - PD < 0.01 → AAA  \n",
        "   - PD < 0.02 → AA  \n",
        "   - PD < 0.05 → A  \n",
        "   - PD < 0.10 → BBB  \n",
        "   - Else → BB or lower  \n",
        "3. **Determine Credit Spread** based on assigned rating:\n",
        "   - AAA → 0.50%  \n",
        "   - AA → 1.00%  \n",
        "   - A → 1.50%  \n",
        "   - BBB → 2.00%  \n",
        "   - BB or lower → 3.00%\n",
        "\n",
        "### **Interpretation**\n",
        "- Higher climate-adjusted PD results in a worse credit rating\n"
      ],
      "metadata": {
        "id": "LVDqWGyb6DrP"
      }
    },
    {
      "cell_type": "code",
      "execution_count": null,
      "metadata": {
        "colab": {
          "base_uri": "https://localhost:8080/"
        },
        "id": "L3SOUwheoKGw",
        "outputId": "5180a5b1-6406-40a4-e39e-46ef735ee80a"
      },
      "outputs": [
        {
          "output_type": "stream",
          "name": "stdout",
          "text": [
            "  Loan_ID  Baseline_PD  Climate_Add_On  Climate_Adjusted_PD\n",
            "0    L001         0.02            0.05             0.021004\n",
            "1    L002         0.04            0.02             0.040775\n",
            "2    L003         0.06            0.07             0.064072\n"
          ]
        }
      ],
      "source": [
        "import pandas as pd\n",
        "import numpy as np\n",
        "\n",
        "# Sample loan data with baseline PD and climate adjustment\n",
        "loan_data = pd.DataFrame({\n",
        "    \"Loan_ID\": [\"L001\", \"L002\", \"L003\"],\n",
        "    \"Baseline_PD\": [0.02, 0.04, 0.06],  # 2%, 4%, 6% probability of default\n",
        "    \"Climate_Add_On\": [0.05, 0.02, 0.07]  # Climate risk adjustments\n",
        "})\n",
        "\n",
        "def logit(p):\n",
        "    return np.log(p / (1 - p))\n",
        "\n",
        "def climate_adjusted_pd(baseline_pd, climate_add_on):\n",
        "    return 1 / (1 + np.exp(-(logit(baseline_pd) + climate_add_on)))\n",
        "\n",
        "# Apply function to each row\n",
        "loan_data[\"Climate_Adjusted_PD\"] = loan_data.apply(\n",
        "    lambda row: climate_adjusted_pd(row[\"Baseline_PD\"], row[\"Climate_Add_On\"]), axis=1\n",
        ")\n",
        "\n",
        "print(loan_data)\n"
      ]
    },
    {
      "cell_type": "code",
      "source": [
        "# Sample equity exposures dataset\n",
        "equity_data = pd.DataFrame({\n",
        "    \"Stock_ID\": [\"E001\", \"E002\", \"E003\"],\n",
        "    \"Equity_Exposure_2023\": [1_000_000, 750_000, 500_000],  # $1M, $750K, $500K\n",
        "    \"Baseline_Equity_Index_T\": [1.05, 1.10, 0.95]  # Index growth/shrinkage\n",
        "})\n",
        "\n",
        "# Compute baseline market value\n",
        "equity_data[\"Baseline_Market_Value_T\"] = equity_data[\"Equity_Exposure_2023\"] * equity_data[\"Baseline_Equity_Index_T\"]\n",
        "\n",
        "print(equity_data)"
      ],
      "metadata": {
        "colab": {
          "base_uri": "https://localhost:8080/"
        },
        "id": "E_ZbX7kNoWkw",
        "outputId": "22deb929-7d65-41f0-d23b-3819a9804d62"
      },
      "execution_count": null,
      "outputs": [
        {
          "output_type": "stream",
          "name": "stdout",
          "text": [
            "  Stock_ID  Equity_Exposure_2023  Baseline_Equity_Index_T  \\\n",
            "0     E001               1000000                     1.05   \n",
            "1     E002                750000                     1.10   \n",
            "2     E003                500000                     0.95   \n",
            "\n",
            "   Baseline_Market_Value_T  \n",
            "0                1050000.0  \n",
            "1                 825000.0  \n",
            "2                 475000.0  \n"
          ]
        }
      ]
    },
    {
      "cell_type": "code",
      "source": [
        "# Adding equity shock data\n",
        "equity_data[\"Equity_Shock_T\"] = [-0.10, 0.05, -0.20]  # -10%, +5%, -20%\n",
        "\n",
        "# Compute change in market value\n",
        "equity_data[\"Market_Value_Change\"] = equity_data[\"Baseline_Market_Value_T\"] * equity_data[\"Equity_Shock_T\"]\n",
        "\n",
        "print(equity_data)"
      ],
      "metadata": {
        "colab": {
          "base_uri": "https://localhost:8080/"
        },
        "id": "BrD1QRYqoWhD",
        "outputId": "02a54ac1-a205-42c5-d807-d8d5e8eae006"
      },
      "execution_count": null,
      "outputs": [
        {
          "output_type": "stream",
          "name": "stdout",
          "text": [
            "  Stock_ID  Equity_Exposure_2023  Baseline_Equity_Index_T  \\\n",
            "0     E001               1000000                     1.05   \n",
            "1     E002                750000                     1.10   \n",
            "2     E003                500000                     0.95   \n",
            "\n",
            "   Baseline_Market_Value_T  Equity_Shock_T  Market_Value_Change  \n",
            "0                1050000.0           -0.10            -105000.0  \n",
            "1                 825000.0            0.05              41250.0  \n",
            "2                 475000.0           -0.20             -95000.0  \n"
          ]
        }
      ]
    },
    {
      "cell_type": "code",
      "source": [
        "# Sample bond data\n",
        "bond_data = pd.DataFrame({\n",
        "    \"Bond_ID\": [\"B001\", \"B002\", \"B003\"],\n",
        "    \"Baseline_PD\": [0.01, 0.03, 0.07],  # Default probabilities\n",
        "    \"Climate_Add_On\": [0.02, 0.01, 0.05]  # Climate risk adjustments\n",
        "})\n",
        "\n",
        "# Compute climate-adjusted PD\n",
        "bond_data[\"Climate_Adjusted_PD\"] = bond_data.apply(\n",
        "    lambda row: climate_adjusted_pd(row[\"Baseline_PD\"], row[\"Climate_Add_On\"]), axis=1\n",
        ")\n",
        "\n",
        "def assign_credit_rating(adjusted_pd):\n",
        "    if adjusted_pd < 0.01:\n",
        "        return 'AAA'\n",
        "    elif adjusted_pd < 0.02:\n",
        "        return 'AA'\n",
        "    elif adjusted_pd < 0.05:\n",
        "        return 'A'\n",
        "    elif adjusted_pd < 0.10:\n",
        "        return 'BBB'\n",
        "    else:\n",
        "        return 'BB or lower'\n",
        "\n",
        "def determine_credit_spread(rating):\n",
        "    spreads = {'AAA': 0.005, 'AA': 0.01, 'A': 0.015, 'BBB': 0.02, 'BB or lower': 0.03}\n",
        "    return spreads.get(rating, 0.05)\n",
        "\n",
        "# Assign credit ratings and spreads\n",
        "bond_data[\"Credit_Rating\"] = bond_data[\"Climate_Adjusted_PD\"].apply(assign_credit_rating)\n",
        "bond_data[\"Credit_Spread\"] = bond_data[\"Credit_Rating\"].apply(determine_credit_spread)\n",
        "\n",
        "print(bond_data)"
      ],
      "metadata": {
        "colab": {
          "base_uri": "https://localhost:8080/"
        },
        "id": "d_XALHcroWc1",
        "outputId": "bb1cf8ca-f0f1-416a-845a-b257381301da"
      },
      "execution_count": null,
      "outputs": [
        {
          "output_type": "stream",
          "name": "stdout",
          "text": [
            "  Bond_ID  Baseline_PD  Climate_Add_On  Climate_Adjusted_PD Credit_Rating  \\\n",
            "0    B001         0.01            0.02             0.010200            AA   \n",
            "1    B002         0.03            0.01             0.030292             A   \n",
            "2    B003         0.07            0.05             0.073326           BBB   \n",
            "\n",
            "   Credit_Spread  \n",
            "0          0.010  \n",
            "1          0.015  \n",
            "2          0.020  \n"
          ]
        }
      ]
    },
    {
      "cell_type": "code",
      "source": [],
      "metadata": {
        "id": "ynCU3vKZojzi"
      },
      "execution_count": null,
      "outputs": []
    }
  ]
}