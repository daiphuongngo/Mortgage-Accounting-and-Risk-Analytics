{
  "nbformat": 4,
  "nbformat_minor": 0,
  "metadata": {
    "colab": {
      "provenance": []
    },
    "kernelspec": {
      "name": "python3",
      "display_name": "Python 3"
    },
    "language_info": {
      "name": "python"
    }
  },
  "cells": [
    {
      "cell_type": "code",
      "execution_count": null,
      "metadata": {
        "colab": {
          "base_uri": "https://localhost:8080/"
        },
        "id": "5S_Y4smVhRqR",
        "outputId": "98eb1c20-4cae-4ecc-bfc1-7da533b39ac0"
      },
      "outputs": [
        {
          "output_type": "stream",
          "name": "stdout",
          "text": [
            "Reversals (index pairs): []\n",
            "\n",
            "Left Out Rows:\n",
            "      Desc  Amount\n",
            "0  3072983    2307\n",
            "1  3072983    2307\n",
            "2  3072983   -2307\n",
            "3  3072983    2307\n",
            "4  3072983   -2307\n"
          ]
        }
      ],
      "source": [
        "import pandas as pd\n",
        "\n",
        "# Sample data\n",
        "data = {\n",
        "    'Desc': [3072983, 3072983, 3072983, 3072983, 3072983],\n",
        "    'Amount': [2307, 2307, -2307, 2307, -2307]\n",
        "}\n",
        "\n",
        "# Create DataFrame\n",
        "df = pd.DataFrame(data)\n",
        "\n",
        "def identify_reversals(df):\n",
        "    # Sort by Desc and Amount for consistent pairing\n",
        "    df_sorted = df.sort_values(by=['Desc', 'Amount']).reset_index(drop=True)\n",
        "\n",
        "    # Create a stack to pair positive and negative values\n",
        "    stack = []\n",
        "    reversals = []\n",
        "    left_out = []\n",
        "\n",
        "    for index, row in df_sorted.iterrows():\n",
        "        desc, amount = row['Desc'], row['Amount']\n",
        "        if amount < 0:\n",
        "            # Look for a matching positive value\n",
        "            found = False\n",
        "            for i, (d, a, idx) in enumerate(stack):\n",
        "                if d == desc and a == -amount:\n",
        "                    reversals.append((idx, index))  # Record the indices of the pair\n",
        "                    stack.pop(i)  # Remove the matched value from the stack\n",
        "                    found = True\n",
        "                    break\n",
        "            if not found:\n",
        "                left_out.append(index)  # No match found, leave it out\n",
        "        else:\n",
        "            # Add positive amount to stack\n",
        "            stack.append((desc, amount, index))\n",
        "\n",
        "    # Add remaining stack indices to left_out\n",
        "    left_out.extend([idx for _, _, idx in stack])\n",
        "\n",
        "    # Return reversals and left_out\n",
        "    return reversals, df.loc[left_out]\n",
        "\n",
        "# Run the function\n",
        "reversals, left_out = identify_reversals(df)\n",
        "\n",
        "print(\"Reversals (index pairs):\", reversals)\n",
        "print(\"\\nLeft Out Rows:\")\n",
        "print(left_out)"
      ]
    },
    {
      "cell_type": "code",
      "source": [
        "\n",
        "import pandas as pd\n",
        "\n",
        "# Sample data\n",
        "data = {\n",
        "    'Desc': [3072983, 3072983, 3072983, 3072983, 3072983],\n",
        "    'Amount': [2307, 2307, -2307, 2307, -2307]\n",
        "}\n",
        "\n",
        "# Create DataFrame\n",
        "df = pd.DataFrame(data)\n",
        "\n",
        "def identify_reversals(df):\n",
        "    # Sort by Desc and Amount for consistent pairing\n",
        "    df_sorted = df.sort_values(by=['Desc', 'Amount']).reset_index(drop=True)\n",
        "\n",
        "    # Create a stack to pair positive and negative values\n",
        "    stack = []\n",
        "    reversals = []\n",
        "    left_out = []\n",
        "\n",
        "    for index, row in df_sorted.iterrows():\n",
        "        desc, amount = row['Desc'], row['Amount']\n",
        "        if amount < 0:\n",
        "            # Look for a matching positive value in the stack\n",
        "            found = False\n",
        "            for i, (d, a, idx) in enumerate(stack):\n",
        "                if d == desc and a == -amount:  # Match Desc and opposite Amount\n",
        "                    reversals.append((idx, index))  # Record the indices of the pair\n",
        "                    stack.pop(i)  # Remove the matched value from the stack\n",
        "                    found = True\n",
        "                    break\n",
        "            if not found:\n",
        "                left_out.append(index)  # No match found, leave it out\n",
        "        else:\n",
        "            # Add positive amount to stack\n",
        "            stack.append((desc, amount, index))\n",
        "\n",
        "    # Add remaining stack indices to left_out\n",
        "    left_out.extend([idx for _, _, idx in stack])\n",
        "\n",
        "    # Return reversals and left_out DataFrames\n",
        "    reversal_pairs = [(df.iloc[p1].to_dict(), df.iloc[p2].to_dict()) for p1, p2 in reversals]\n",
        "    unmatched_rows = df.loc[left_out]\n",
        "\n",
        "    return reversal_pairs, unmatched_rows\n",
        "\n",
        "# Run the function\n",
        "reversal_pairs, unmatched_rows = identify_reversals(df)\n",
        "\n",
        "# Output results\n",
        "print(\"Reversal Pairs:\")\n",
        "for pair in reversal_pairs:\n",
        "    print(pair)\n",
        "\n",
        "print(\"\\nUnmatched Rows:\")\n",
        "print(unmatched_rows)"
      ],
      "metadata": {
        "id": "0mgBIpO1h7hr",
        "outputId": "929fbee8-74bc-4a4a-be08-e8a17f16d1c7",
        "colab": {
          "base_uri": "https://localhost:8080/"
        }
      },
      "execution_count": null,
      "outputs": [
        {
          "output_type": "stream",
          "name": "stdout",
          "text": [
            "Reversal Pairs:\n",
            "\n",
            "Unmatched Rows:\n",
            "      Desc  Amount\n",
            "0  3072983    2307\n",
            "1  3072983    2307\n",
            "2  3072983   -2307\n",
            "3  3072983    2307\n",
            "4  3072983   -2307\n"
          ]
        }
      ]
    }
  ]
}